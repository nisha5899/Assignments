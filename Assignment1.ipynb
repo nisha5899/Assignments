{
 "cells": [
  {
   "cell_type": "code",
   "execution_count": 1,
   "id": "043f7786-7085-46ac-885e-99e495d83ab9",
   "metadata": {},
   "outputs": [
    {
     "name": "stdout",
     "output_type": "stream",
     "text": [
      "The First 10 Natural Numbers\n",
      "1 2 3 4 5 6 7 8 9 10 "
     ]
    }
   ],
   "source": [
    "1\n",
    "print(\"The First 10 Natural Numbers\")\n",
    "i = 1\n",
    "\n",
    "while(i <= 10):\n",
    "    print(i , end=' ')\n",
    "    i = i + 1\n"
   ]
  },
  {
   "cell_type": "code",
   "execution_count": 2,
   "id": "811af25f-d4d0-40aa-a462-32869f2c2ea1",
   "metadata": {},
   "outputs": [
    {
     "name": "stdout",
     "output_type": "stream",
     "text": [
      "1111\n",
      "111\n",
      "11\n",
      "1\n"
     ]
    }
   ],
   "source": [
    "2\n",
    "n = 4\n",
    "for i in range(n):\n",
    "    for j in range(i,n):\n",
    "        print(1,end='')\n",
    "    for j in range(i):\n",
    "        print('',end='')\n",
    "    print()"
   ]
  },
  {
   "cell_type": "code",
   "execution_count": 3,
   "id": "31d86186-a0db-450a-91ae-95931a02a471",
   "metadata": {},
   "outputs": [
    {
     "name": "stdout",
     "output_type": "stream",
     "text": [
      "Number: 5\n",
      "15\n"
     ]
    }
   ],
   "source": [
    "3\n",
    "n = int(input(\"Number: \"))\n",
    "sum = 0\n",
    "for i in range(1, n + 1):\n",
    "    sum +=i\n",
    "print(sum)"
   ]
  },
  {
   "cell_type": "code",
   "execution_count": 4,
   "id": "4efb34e0-5456-4224-92c4-e7e0578ab2f5",
   "metadata": {},
   "outputs": [
    {
     "name": "stdout",
     "output_type": "stream",
     "text": [
      "Display multiplication table of? 6\n",
      "6 x 1 = 6\n",
      "6 x 2 = 12\n",
      "6 x 3 = 18\n",
      "6 x 4 = 24\n",
      "6 x 5 = 30\n",
      "6 x 6 = 36\n",
      "6 x 7 = 42\n",
      "6 x 8 = 48\n",
      "6 x 9 = 54\n",
      "6 x 10 = 60\n"
     ]
    }
   ],
   "source": [
    "4\n",
    "# To take input from the user\n",
    "num = int(input(\"Display multiplication table of? \"))\n",
    "for i in range(1, 11):\n",
    "   print(num, 'x', i, '=', num*i)\n"
   ]
  },
  {
   "cell_type": "code",
   "execution_count": 5,
   "id": "d88ab64d-9f9d-4567-84df-0d9113c7a4a9",
   "metadata": {},
   "outputs": [
    {
     "name": "stdout",
     "output_type": "stream",
     "text": [
      "1\n",
      "5\n",
      "7\n",
      "9\n",
      "33\n"
     ]
    }
   ],
   "source": [
    "5\n",
    "l=[1,5,7,9,33]\n",
    "for i in l:\n",
    "    print(i)"
   ]
  },
  {
   "cell_type": "code",
   "execution_count": 6,
   "id": "f7b1ee1a-6fef-4247-9cd2-1acb9e3b6cd7",
   "metadata": {},
   "outputs": [
    {
     "name": "stdout",
     "output_type": "stream",
     "text": [
      "number:7\n",
      "total number of digits: 1\n"
     ]
    }
   ],
   "source": [
    "6\n",
    "count = 0\n",
    "n = (input(\"number:\"))\n",
    "print('total number of digits:',len(n))"
   ]
  },
  {
   "cell_type": "code",
   "execution_count": 7,
   "id": "a87daacb-d979-4a01-bd44-359cffd67647",
   "metadata": {},
   "outputs": [
    {
     "name": "stdout",
     "output_type": "stream",
     "text": [
      "     \n",
      "     *\n",
      "    * *\n",
      "   * * *\n",
      "  * * * *\n",
      " * * * * *\n",
      "  * * * *\n",
      "   * * *\n",
      "    * *\n",
      "     *\n",
      "\n"
     ]
    }
   ],
   "source": [
    "7\n",
    "n = 5\n",
    "for i in range(n+1):\n",
    "         print((n-i)*(\" \")+(i*' *'))\n",
    "for i in range((n-1),0,-1):\n",
    "        print((n-i)*(\" \")+(i*' *'))\n",
    "print()"
   ]
  },
  {
   "cell_type": "code",
   "execution_count": 8,
   "id": "4757158f-24d8-42e2-8323-78fe4e2e0c5a",
   "metadata": {},
   "outputs": [
    {
     "name": "stdout",
     "output_type": "stream",
     "text": [
      "11 26 9 7 5 1 "
     ]
    }
   ],
   "source": [
    "8\n",
    "l=[1,5,7,9,26,11]\n",
    "for n in reversed (l):\n",
    " print(n,end=' ')"
   ]
  },
  {
   "cell_type": "code",
   "execution_count": 9,
   "id": "45ccb811-c88f-4e07-8b64-5a96994a2c93",
   "metadata": {},
   "outputs": [
    {
     "name": "stdout",
     "output_type": "stream",
     "text": [
      "-10 -9 -8 -7 -6 -5 -4 -3 -2 -1 "
     ]
    }
   ],
   "source": [
    "9\n",
    "for i in range (10,0,-1):\n",
    " print(-i,end=' ')   "
   ]
  },
  {
   "cell_type": "code",
   "execution_count": 10,
   "id": "b77fa78b-8a8f-4861-bf6a-1ae83d8a9f6e",
   "metadata": {},
   "outputs": [
    {
     "name": "stdout",
     "output_type": "stream",
     "text": [
      "2\n",
      "4\n",
      "6\n",
      "8\n",
      "done "
     ]
    }
   ],
   "source": [
    "10\n",
    "for k in range(1,9,2):\n",
    " print(k+1)\n",
    "else:\n",
    " print(\"done\",end=' ')\n"
   ]
  },
  {
   "cell_type": "code",
   "execution_count": 11,
   "id": "9599154c-fb3e-4edc-9f45-db2dd860e8b8",
   "metadata": {},
   "outputs": [
    {
     "name": "stdout",
     "output_type": "stream",
     "text": [
      "2\n",
      "3\n",
      "5\n",
      "7\n",
      "11\n",
      "13\n"
     ]
    }
   ],
   "source": [
    "11\n",
    "a = 1\n",
    "b = 15\n",
    "\n",
    "for num in range(a, b + 1):\n",
    "    if num > 1: \n",
    "        for i in range(2,num):\n",
    "            if (num % i) == 0:\n",
    "                break\n",
    "        else:     \n",
    "         print(num)"
   ]
  },
  {
   "cell_type": "code",
   "execution_count": 12,
   "id": "0a1febd7-a7a5-486d-a131-c4617b266057",
   "metadata": {},
   "outputs": [
    {
     "name": "stdout",
     "output_type": "stream",
     "text": [
      "0 1 1 2 3 5 8 13 21 34 55 89 144 233 377 "
     ]
    }
   ],
   "source": [
    "12\n",
    "x = 10\n",
    "n1,n2 = 0,1\n",
    "sum = 0\n",
    "if (x<=0):\n",
    "    print('Enter number greater than 0')\n",
    "else:\n",
    "    for i in range(0,num):\n",
    "        print(sum,end=' ')\n",
    "        n1 = n2\n",
    "        n2 = sum\n",
    "        sum = n1 + n2"
   ]
  },
  {
   "cell_type": "code",
   "execution_count": 13,
   "id": "76131f31-588f-4cea-8102-a4d070eb743e",
   "metadata": {},
   "outputs": [
    {
     "name": "stdout",
     "output_type": "stream",
     "text": [
      "The factorial of given number is 720\n"
     ]
    }
   ],
   "source": [
    "13\n",
    "def factorial(n):\n",
    "    if(n==0):\n",
    "     return 1\n",
    "    else:\n",
    "     return n*factorial(n-1)\n",
    "\n",
    "print(\"The factorial of given number is\",factorial(6))\n"
   ]
  },
  {
   "cell_type": "code",
   "execution_count": 14,
   "id": "ef67f8b5-eab7-49ae-b761-54f345f906bb",
   "metadata": {},
   "outputs": [
    {
     "name": "stdout",
     "output_type": "stream",
     "text": [
      "Enter number:90876\n",
      "67809\n"
     ]
    }
   ],
   "source": [
    "14\n",
    "i = int(input(\"Enter number:\"))\n",
    "rev=0\n",
    "while(i>0):\n",
    "    rev=(rev*10)+i%10\n",
    "    i=i//10\n",
    "print(rev)"
   ]
  },
  {
   "cell_type": "code",
   "execution_count": 15,
   "id": "3537b83c-3bde-4c42-9bc0-3c7208505342",
   "metadata": {},
   "outputs": [
    {
     "name": "stdout",
     "output_type": "stream",
     "text": [
      "1 57 84 "
     ]
    }
   ],
   "source": [
    "# 15\n",
    "list = [2,1,45,57,64,84,76]\n",
    "for i in range(len(list)):\n",
    "    if(not(i%2) == 0):\n",
    "        print(list[i],end=' ')"
   ]
  },
  {
   "cell_type": "code",
   "execution_count": 16,
   "id": "e1907afe-84f7-45f3-9b69-118601bbfc47",
   "metadata": {},
   "outputs": [
    {
     "name": "stdout",
     "output_type": "stream",
     "text": [
      "cube of 2 = 8\n",
      "cube of 3 = 27\n",
      "cube of 4 = 64\n"
     ]
    }
   ],
   "source": [
    "16\n",
    "def get_cube(num):\n",
    "    return num*num*num\n",
    "\n",
    "for i in {3,2,4}:\n",
    "    \n",
    "    result = get_cube(i)\n",
    "    print('cube of',i,'=',result)"
   ]
  },
  {
   "cell_type": "code",
   "execution_count": 18,
   "id": "aacecc7e-21b3-4e20-b5b3-4cc15d8bd2aa",
   "metadata": {},
   "outputs": [
    {
     "name": "stdout",
     "output_type": "stream",
     "text": [
      "Enter the n terms:5\n",
      "3\n",
      "3\n",
      "33\n",
      "36\n",
      "333\n",
      "369\n",
      "3333\n",
      "3702\n",
      "33333\n",
      "37035\n"
     ]
    }
   ],
   "source": [
    "17\n",
    "num = int(input(\"Enter the n terms:\"))\n",
    "a = 3\n",
    "sum_series = 0\n",
    "for i in range(0,num):\n",
    "    print(a)\n",
    "    sum_series+=a\n",
    "    a=a*10+3\n",
    "    print(sum_series)"
   ]
  },
  {
   "cell_type": "code",
   "execution_count": 19,
   "id": "cb8e0a57-f917-47ce-85e7-88b2a81b47bf",
   "metadata": {},
   "outputs": [
    {
     "name": "stdout",
     "output_type": "stream",
     "text": [
      "1 \n",
      "1 2 \n",
      "1 2 3 \n",
      "1 2 3 4 \n",
      "1 2 3 4 5 \n"
     ]
    }
   ],
   "source": [
    "18\n",
    "n=5\n",
    "for x in range(1,n+1):\n",
    "    for y in range(1,x+1):\n",
    "      print(y,end=' ')\n",
    "    print()"
   ]
  },
  {
   "cell_type": "code",
   "execution_count": null,
   "id": "ff9004a7-fc90-4b0f-aacb-3d11eaddeb9a",
   "metadata": {},
   "outputs": [],
   "source": []
  }
 ],
 "metadata": {
  "kernelspec": {
   "display_name": "Python 3 (ipykernel)",
   "language": "python",
   "name": "python3"
  },
  "language_info": {
   "codemirror_mode": {
    "name": "ipython",
    "version": 3
   },
   "file_extension": ".py",
   "mimetype": "text/x-python",
   "name": "python",
   "nbconvert_exporter": "python",
   "pygments_lexer": "ipython3",
   "version": "3.11.4"
  }
 },
 "nbformat": 4,
 "nbformat_minor": 5
}
