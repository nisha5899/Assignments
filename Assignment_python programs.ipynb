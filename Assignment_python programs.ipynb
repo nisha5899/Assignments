{
 "cells": [
  {
   "cell_type": "markdown",
   "id": "55abdc02",
   "metadata": {},
   "source": [
    "# PYTHON PROGRAMS:"
   ]
  },
  {
   "cell_type": "raw",
   "id": "3346be0a",
   "metadata": {},
   "source": [
    "Q 1. area of rectangle:"
   ]
  },
  {
   "cell_type": "code",
   "execution_count": 1,
   "id": "fa122c8d",
   "metadata": {},
   "outputs": [
    {
     "name": "stdout",
     "output_type": "stream",
     "text": [
      "length in cm12\n",
      "breadth in cm8\n",
      "Area of rectangle is: 96 cm^2\n"
     ]
    }
   ],
   "source": [
    "l=int(input(\"length in cm\"))\n",
    "b=int(input(\"breadth in cm\"))\n",
    "a=l*b\n",
    "print(\"Area of rectangle is:\",a,\"cm^2\")"
   ]
  },
  {
   "cell_type": "raw",
   "id": "3f3f570b",
   "metadata": {},
   "source": [
    "Q 2.Area of circle:"
   ]
  },
  {
   "cell_type": "code",
   "execution_count": 4,
   "id": "82d805b3",
   "metadata": {},
   "outputs": [
    {
     "name": "stdout",
     "output_type": "stream",
     "text": [
      "enter radius3\n",
      "Area of circle is : 28.26\n"
     ]
    }
   ],
   "source": [
    "r=int(input(\"enter radius\"))\n",
    "a=3.14*(r*r)\n",
    "print(\"Area of circle is :\",a)"
   ]
  },
  {
   "cell_type": "raw",
   "id": "e548dcc9",
   "metadata": {},
   "source": [
    "Q 3. Area of cuboid:"
   ]
  },
  {
   "cell_type": "code",
   "execution_count": 8,
   "id": "3c770722",
   "metadata": {},
   "outputs": [
    {
     "name": "stdout",
     "output_type": "stream",
     "text": [
      "enter length7\n",
      "enter breadth4\n",
      "enter height9\n",
      "the area is: 254\n"
     ]
    }
   ],
   "source": [
    "l=int(input(\"enter length\"))\n",
    "b=int(input(\"enter breadth\"))\n",
    "h=int(input(\"enter height\"))\n",
    "a=2*(l*b+b*h+h*l)\n",
    "print(\"the area is:\",a)"
   ]
  },
  {
   "cell_type": "raw",
   "id": "4366371f",
   "metadata": {},
   "source": [
    "Q 4.Area of cube:"
   ]
  },
  {
   "cell_type": "code",
   "execution_count": 9,
   "id": "90266b6a",
   "metadata": {},
   "outputs": [
    {
     "name": "stdout",
     "output_type": "stream",
     "text": [
      "enter the length of cube5\n",
      "area of cube is : 150\n"
     ]
    }
   ],
   "source": [
    "l=int(input(\"enter the length of cube\"))\n",
    "a=6*(l*l)\n",
    "print(\"area of cube is :\",a)"
   ]
  },
  {
   "cell_type": "code",
   "execution_count": null,
   "id": "c2fe6a28",
   "metadata": {},
   "outputs": [],
   "source": [
    "Q 5.Area of csa of cylinder:"
   ]
  },
  {
   "cell_type": "code",
   "execution_count": 10,
   "id": "7721b3af",
   "metadata": {},
   "outputs": [
    {
     "name": "stdout",
     "output_type": "stream",
     "text": [
      "enter thr radius5\n",
      "enter height20\n",
      "csa of cylinder is: 628.0\n"
     ]
    }
   ],
   "source": [
    "r=int(input(\"enter thr radius\"))\n",
    "h=int(input(\"enter height\"))\n",
    "a=2*(3.14*(r*h))\n",
    "print(\"csa of cylinder is:\",a)"
   ]
  },
  {
   "cell_type": "raw",
   "id": "9156557b",
   "metadata": {},
   "source": [
    "Q 6.area of TSA of cylinder:"
   ]
  },
  {
   "cell_type": "code",
   "execution_count": 11,
   "id": "8222216c",
   "metadata": {},
   "outputs": [
    {
     "name": "stdout",
     "output_type": "stream",
     "text": [
      "enter radius4\n",
      "enter height7\n",
      "area is : 69.08\n"
     ]
    }
   ],
   "source": [
    "r=int(input(\"enter radius\"))\n",
    "h=int(input(\"enter height\"))\n",
    "a=2*3.14*(r+h)\n",
    "print(\"area is :\",a)"
   ]
  },
  {
   "cell_type": "raw",
   "id": "984e19f6",
   "metadata": {},
   "source": [
    "Q 7.Area of csa of cone:"
   ]
  },
  {
   "cell_type": "code",
   "execution_count": 14,
   "id": "e0ee08e8",
   "metadata": {},
   "outputs": [
    {
     "name": "stdout",
     "output_type": "stream",
     "text": [
      "enter radius4\n",
      "enter length6\n",
      "csa is: 75.36\n"
     ]
    }
   ],
   "source": [
    "r=int(input(\"enter radius\"))\n",
    "l=int(input(\"enter length\"))\n",
    "a=3.14*r*l\n",
    "print(\"csa is:\",a)"
   ]
  },
  {
   "cell_type": "raw",
   "id": "59c95ca4",
   "metadata": {},
   "source": [
    "Q 8.Area of tsa of right circular cone:"
   ]
  },
  {
   "cell_type": "code",
   "execution_count": 15,
   "id": "6600eb00",
   "metadata": {},
   "outputs": [
    {
     "name": "stdout",
     "output_type": "stream",
     "text": [
      "enter radius5\n",
      "enter slant height23\n",
      "the tsa is: 439.6\n"
     ]
    }
   ],
   "source": [
    "r=int(input(\"enter radius\"))\n",
    "l=int(input(\"enter slant height\"))\n",
    "a=3.14*r*(l+r)\n",
    "print(\"the tsa is:\",a)"
   ]
  },
  {
   "cell_type": "raw",
   "id": "cc8530ea",
   "metadata": {},
   "source": [
    "Q 9 TSA of sphere:"
   ]
  },
  {
   "cell_type": "code",
   "execution_count": 16,
   "id": "c4ff7ba8",
   "metadata": {},
   "outputs": [
    {
     "name": "stdout",
     "output_type": "stream",
     "text": [
      "enter radius5\n",
      "tsa of sphere is : 314.0\n"
     ]
    }
   ],
   "source": [
    "r=int(input(\"enter radius\"))\n",
    "a=4*(3.14*(r*r))\n",
    "print(\"tsa of sphere is :\",a)"
   ]
  },
  {
   "cell_type": "raw",
   "id": "59e45580",
   "metadata": {},
   "source": [
    "Q 10. volume of cuboid"
   ]
  },
  {
   "cell_type": "code",
   "execution_count": 17,
   "id": "02e5eaba",
   "metadata": {},
   "outputs": [
    {
     "name": "stdout",
     "output_type": "stream",
     "text": [
      "enter length5\n",
      "enter breadth6\n",
      "enter height2\n",
      "volume of cuboid is : 60\n"
     ]
    }
   ],
   "source": [
    "l=int(input(\"enter length\"))\n",
    "b=int(input(\"enter breadth\"))\n",
    "h=int(input(\"enter height\"))\n",
    "a=l*b*h\n",
    "print(\"volume of cuboid is :\",a)"
   ]
  },
  {
   "cell_type": "raw",
   "id": "bb2d172a",
   "metadata": {},
   "source": [
    "Q 11.volume of cube:"
   ]
  },
  {
   "cell_type": "code",
   "execution_count": 19,
   "id": "814f8c7b",
   "metadata": {},
   "outputs": [
    {
     "name": "stdout",
     "output_type": "stream",
     "text": [
      "enter the length5\n",
      "volume of cube is : 125\n"
     ]
    }
   ],
   "source": [
    "l=int(input(\"enter the length\"))\n",
    "a=l*l*l\n",
    "print(\"volume of cube is :\",a)"
   ]
  },
  {
   "cell_type": "raw",
   "id": "16194f88",
   "metadata": {},
   "source": [
    "Q 12. volume of cylinder:"
   ]
  },
  {
   "cell_type": "code",
   "execution_count": 1,
   "id": "ca380567",
   "metadata": {},
   "outputs": [
    {
     "name": "stdout",
     "output_type": "stream",
     "text": [
      "enter radius5\n",
      "enter height20\n",
      "volume is : 1570.0\n"
     ]
    }
   ],
   "source": [
    "r=int(input(\"enter radius\"))\n",
    "h=int(input(\"enter height\"))\n",
    "v=3.14*(r*r)*h\n",
    "print(\"volume is :\",v)"
   ]
  },
  {
   "cell_type": "raw",
   "id": "5b6354c6",
   "metadata": {},
   "source": [
    "Q 13.volume of cone"
   ]
  },
  {
   "cell_type": "code",
   "execution_count": 3,
   "id": "cd3e3247",
   "metadata": {},
   "outputs": [
    {
     "name": "stdout",
     "output_type": "stream",
     "text": [
      "enter radius5\n",
      "enter height3\n",
      "volume is : 78.5\n"
     ]
    }
   ],
   "source": [
    "r=int(input(\"enter radius\"))\n",
    "h=int(input(\"enter height\"))\n",
    "v=1/3*(3.14*(r*r)*h)\n",
    "print(\"volume is :\",v)"
   ]
  },
  {
   "cell_type": "raw",
   "id": "bfd8065e",
   "metadata": {},
   "source": [
    "Q 14.volume of sphere:"
   ]
  },
  {
   "cell_type": "code",
   "execution_count": 4,
   "id": "602a9948",
   "metadata": {},
   "outputs": [
    {
     "name": "stdout",
     "output_type": "stream",
     "text": [
      "enter radius4\n",
      "volume is: 267.94666666666666\n"
     ]
    }
   ],
   "source": [
    "r=int(input(\"enter radius\"))\n",
    "v=4/3*(3.14*(r*r*r))\n",
    "print(\"volume is:\",v)"
   ]
  },
  {
   "cell_type": "raw",
   "id": "56c9ae3d",
   "metadata": {},
   "source": [
    "Q 15.perimeter of rectangle:"
   ]
  },
  {
   "cell_type": "code",
   "execution_count": 6,
   "id": "5d73f44b",
   "metadata": {},
   "outputs": [
    {
     "name": "stdout",
     "output_type": "stream",
     "text": [
      "enter length34\n",
      "enter breadth23\n",
      "perimeter is: 114 cm\n"
     ]
    }
   ],
   "source": [
    "l=int(input(\"enter length\"))\n",
    "b=int(input(\"enter breadth\"))\n",
    "a=2*(l+b)\n",
    "print(\"perimeter is:\",a,\"cm\")"
   ]
  },
  {
   "cell_type": "raw",
   "id": "4ebbc9e2",
   "metadata": {},
   "source": [
    "Q 16.area of square:"
   ]
  },
  {
   "cell_type": "code",
   "execution_count": 7,
   "id": "ad19c942",
   "metadata": {},
   "outputs": [
    {
     "name": "stdout",
     "output_type": "stream",
     "text": [
      "enter the length in cm4\n",
      "area of square is: 16 cm^2\n"
     ]
    }
   ],
   "source": [
    "a=int(input(\"enter the length in cm\"))\n",
    "x=a*a\n",
    "print(\"area of square is:\",x,\"cm^2\")"
   ]
  },
  {
   "cell_type": "raw",
   "id": "a23c0a8b",
   "metadata": {},
   "source": [
    "Q 17.area of traingle"
   ]
  },
  {
   "cell_type": "code",
   "execution_count": 8,
   "id": "ac431a80",
   "metadata": {},
   "outputs": [
    {
     "name": "stdout",
     "output_type": "stream",
     "text": [
      "enter height4\n",
      "enter base5\n",
      "area is : 10.0 cm^2\n"
     ]
    }
   ],
   "source": [
    "h=int(input(\"enter height\"))\n",
    "b=int(input(\"enter base\"))\n",
    "a=1/2*(b*h)\n",
    "print(\"area is :\",a,\"cm^2\")"
   ]
  },
  {
   "cell_type": "raw",
   "id": "f6361048",
   "metadata": {},
   "source": [
    "Q 18.greatest number is tree number:"
   ]
  },
  {
   "cell_type": "code",
   "execution_count": 9,
   "id": "06b3c492",
   "metadata": {},
   "outputs": [
    {
     "name": "stdout",
     "output_type": "stream",
     "text": [
      "enter the first number5\n",
      "enter second number6\n",
      "enter the third number7\n",
      "the greatest number is: 7\n"
     ]
    }
   ],
   "source": [
    "a=int(input(\"enter the first number\"))\n",
    "b=int(input(\"enter second number\"))\n",
    "c=int(input(\"enter the third number\"))\n",
    "if a>b:\n",
    "    if a>c:\n",
    "        print(\"the greatest number is:\",a)\n",
    "    else:\n",
    "        print(\"the greatest number is :\",c)\n",
    "else:\n",
    "    if b>c:\n",
    "        print(\"the greatest number is :\",b)\n",
    "    else:\n",
    "        print(\"the greatest number is:\",c)\n",
    "    "
   ]
  },
  {
   "cell_type": "raw",
   "id": "78038593",
   "metadata": {},
   "source": [
    "Q 19.perimeter of traingle:"
   ]
  },
  {
   "cell_type": "code",
   "execution_count": 1,
   "id": "fc260ef1",
   "metadata": {},
   "outputs": [
    {
     "name": "stdout",
     "output_type": "stream",
     "text": [
      "enter thr side of traingle23\n",
      "enter second side of triangle34\n",
      "enter third side of traingle45\n",
      "the perimeter is: 102\n"
     ]
    }
   ],
   "source": [
    "a=int(input(\"enter thr side of traingle\"))\n",
    "b=int(input(\"enter second side of triangle\"))\n",
    "c=int(input(\"enter third side of traingle\"))\n",
    "perimeter=a+b+c\n",
    "print(\"the perimeter is:\",perimeter)"
   ]
  },
  {
   "cell_type": "raw",
   "id": "51bbd7cc",
   "metadata": {},
   "source": [
    "Q 20.Greatest number in four number:"
   ]
  },
  {
   "cell_type": "code",
   "execution_count": 3,
   "id": "ed54c65f",
   "metadata": {},
   "outputs": [
    {
     "name": "stdout",
     "output_type": "stream",
     "text": [
      "enter the first number23\n",
      "enter second number45\n",
      "enter the third number1\n",
      "enter fourth number56\n",
      "greatest number is : 56\n"
     ]
    }
   ],
   "source": [
    "a=int(input(\"enter the first number\"))\n",
    "b=int(input(\"enter second number\"))\n",
    "c=int(input(\"enter the third number\"))\n",
    "d=int(input(\"enter fourth number\"))\n",
    "if (a>b and a>c and a>d):\n",
    "    print(\"greatest number is :\",a)\n",
    "elif (b>c and b>d):\n",
    "    print(\"greatest number is :\",b)\n",
    "elif (c>d):\n",
    "    print(\"greatest number is :\",c)\n",
    "elif (d>c):\n",
    "    print(\"greatest number is :\",d)\n",
    "else:\n",
    "    print(\"any two values or all values are equal\")"
   ]
  },
  {
   "cell_type": "raw",
   "id": "93476187",
   "metadata": {},
   "source": [
    "Q 21.check division in result"
   ]
  },
  {
   "cell_type": "code",
   "execution_count": 5,
   "id": "3fc9bf71",
   "metadata": {},
   "outputs": [
    {
     "name": "stdout",
     "output_type": "stream",
     "text": [
      "enter marks out of 300251\n",
      "percentage is 83.66666666666667 %\n",
      "your division is first\n"
     ]
    }
   ],
   "source": [
    "a=eval(input(\"enter marks out of 300\"))\n",
    "b=a/300*100\n",
    "print(\"percentage is\",b,\"%\")\n",
    "if(a>300):\n",
    "    print(\"you entered a wrong marks\")\n",
    "elif b>60:\n",
    "    print(\"your division is first\")\n",
    "elif(b>50 and b<53):\n",
    "    print(\"your division is first\")\n",
    "elif(b>33 and b<50):\n",
    "    print(\"your division is third\")\n",
    "else:\n",
    "    print(\"fail\")"
   ]
  },
  {
   "cell_type": "code",
   "execution_count": null,
   "id": "1d6c8ab3",
   "metadata": {},
   "outputs": [],
   "source": [
    "Q 22.check age criteeia:"
   ]
  },
  {
   "cell_type": "code",
   "execution_count": 6,
   "id": "3e8fa989",
   "metadata": {},
   "outputs": [
    {
     "name": "stdout",
     "output_type": "stream",
     "text": [
      "enter ypur age24\n",
      "young\n"
     ]
    }
   ],
   "source": [
    "y=int(input(\"enter ypur age\"))\n",
    "if (y>0 and y<12):\n",
    "    print(\"kid\")\n",
    "elif(y>=12 and y<19):\n",
    "    print(\"teenager\")\n",
    "elif(y>19 and y<30):\n",
    "    print(\"young\")\n",
    "elif(y>30 and y<45):\n",
    "    print(\"mature\")\n",
    "elif(y>45 and y<60):\n",
    "    print(\"experienced\")\n",
    "elif(y>60 and y<75):\n",
    "    print(\"old\")\n",
    "elif(y>75):\n",
    "    print(\"senior citizen\")"
   ]
  },
  {
   "cell_type": "raw",
   "id": "371e0c37",
   "metadata": {},
   "source": [
    "Q 23 sum of n th number:"
   ]
  },
  {
   "cell_type": "code",
   "execution_count": 9,
   "id": "a54c98b1",
   "metadata": {},
   "outputs": [
    {
     "name": "stdout",
     "output_type": "stream",
     "text": [
      "enter limit9\n",
      "the sum is : 36\n"
     ]
    }
   ],
   "source": [
    "n=int(input(\"enter limit\"))\n",
    "s=0\n",
    "for c in range(1,n):\n",
    "    s=c+s\n",
    "print(\"the sum is :\",s)"
   ]
  },
  {
   "cell_type": "raw",
   "id": "6a22a9c2",
   "metadata": {},
   "source": [
    "Q 24.check the value of factorial:"
   ]
  },
  {
   "cell_type": "code",
   "execution_count": 10,
   "id": "772c7677",
   "metadata": {},
   "outputs": [
    {
     "name": "stdout",
     "output_type": "stream",
     "text": [
      "enter number34\n",
      "the factorial of 34 is 295232799039604140847618609643520000000\n"
     ]
    }
   ],
   "source": [
    "a=int(input(\"enter number\"))\n",
    "factorial=1\n",
    "if a<0:\n",
    "    print(\"sory,factorial does not sxist for negative number\")\n",
    "elif a==0:\n",
    "    print(\"the factorial of o is 1\")\n",
    "else:\n",
    "    for i in range(1,a+1):\n",
    "        factorial=factorial*i\n",
    "    print(\"the factorial of\",a,\"is\",factorial)   "
   ]
  },
  {
   "cell_type": "raw",
   "id": "329fa573",
   "metadata": {},
   "source": [
    "Q 25.Print multiplication table"
   ]
  },
  {
   "cell_type": "code",
   "execution_count": 12,
   "id": "1254873b",
   "metadata": {},
   "outputs": [
    {
     "name": "stdout",
     "output_type": "stream",
     "text": [
      "show the multiplication table of23\n",
      "23 x 1 = 23\n",
      "23 x 2 = 46\n",
      "23 x 3 = 69\n",
      "23 x 4 = 92\n",
      "23 x 5 = 115\n",
      "23 x 6 = 138\n",
      "23 x 7 = 161\n",
      "23 x 8 = 184\n",
      "23 x 9 = 207\n",
      "23 x 10 = 230\n"
     ]
    }
   ],
   "source": [
    "a=int(input(\"show the multiplication table of\"))\n",
    "for i in range(1,11):\n",
    "    print(a,\"x\",i,\"=\",a*i)"
   ]
  },
  {
   "cell_type": "raw",
   "id": "97552db7",
   "metadata": {},
   "source": [
    "Q 26.print opposite right angle traingle:"
   ]
  },
  {
   "cell_type": "code",
   "execution_count": 13,
   "id": "9a898573",
   "metadata": {},
   "outputs": [
    {
     "name": "stdout",
     "output_type": "stream",
     "text": [
      "enter thr number of rows4\n",
      "****\n",
      "***\n",
      "**\n",
      "*\n"
     ]
    }
   ],
   "source": [
    "num=int(input(\"enter thr number of rows\"))\n",
    "for i in range(num,0,-1):\n",
    "    for j in range (0,i):\n",
    "        print(\"*\",end=\"\")\n",
    "    print()    "
   ]
  },
  {
   "cell_type": "raw",
   "id": "58713027",
   "metadata": {},
   "source": [
    "Q 27.print 1,22,333,444"
   ]
  },
  {
   "cell_type": "code",
   "execution_count": 14,
   "id": "a5927c98",
   "metadata": {},
   "outputs": [
    {
     "name": "stdout",
     "output_type": "stream",
     "text": [
      "enter the number of rows:6\n",
      "1 \n",
      "2 2 \n",
      "3 3 3 \n",
      "4 4 4 4 \n",
      "5 5 5 5 5 \n",
      "6 6 6 6 6 6 \n"
     ]
    }
   ],
   "source": [
    "n=int(input(\"enter the number of rows:\"))\n",
    "for i in range(1,n+1):\n",
    "    for j in range(1,i+1):\n",
    "        print(i,end=\" \")\n",
    "    print()    "
   ]
  },
  {
   "cell_type": "raw",
   "id": "c3edb7f5",
   "metadata": {},
   "source": [
    "Q 28.print star pattern of opposite traingle"
   ]
  },
  {
   "cell_type": "code",
   "execution_count": 16,
   "id": "5b9615f1",
   "metadata": {},
   "outputs": [
    {
     "name": "stdout",
     "output_type": "stream",
     "text": [
      "enter the number of rows4\n",
      "    *\n",
      "   **\n",
      "  ***\n",
      " ****\n"
     ]
    }
   ],
   "source": [
    "num=int(input(\"enter the number of rows\"))\n",
    "for i in range (0,num):\n",
    "    for j in range (0,num-i):\n",
    "        print(\" \",end=\"\")\n",
    "    for k in range(0,i+1):\n",
    "        print(\"*\",end=\"\")\n",
    "    print(\"\")"
   ]
  },
  {
   "cell_type": "raw",
   "id": "3dfbf8b7",
   "metadata": {},
   "source": [
    "Q 29.print pattern 1,12,123"
   ]
  },
  {
   "cell_type": "code",
   "execution_count": 18,
   "id": "adf07a05",
   "metadata": {},
   "outputs": [
    {
     "name": "stdout",
     "output_type": "stream",
     "text": [
      "enter the number of rows5\n",
      "1\n",
      "12\n",
      "123\n",
      "1234\n",
      "12345\n"
     ]
    }
   ],
   "source": [
    "n=int(input(\"enter the number of rows\"))\n",
    "for i in range(1,n+1):\n",
    "    for j in range(1,i+1):\n",
    "        print(j,end=\"\")\n",
    "    print()"
   ]
  },
  {
   "cell_type": "raw",
   "id": "5239326d",
   "metadata": {},
   "source": [
    "Q 30.print fibonacci series use while loop:"
   ]
  },
  {
   "cell_type": "code",
   "execution_count": 20,
   "id": "ee71894a",
   "metadata": {},
   "outputs": [
    {
     "name": "stdout",
     "output_type": "stream",
     "text": [
      "enter the range5\n",
      "0\n",
      "1\n",
      "1\n",
      "2\n",
      "3\n"
     ]
    }
   ],
   "source": [
    "a=eval(input(\"enter the range\"))\n",
    "i=0\n",
    "first_value=0\n",
    "second_value=1\n",
    "while(i<a):\n",
    "    if(i<=1):\n",
    "        next=i\n",
    "    else:\n",
    "        next=first_value + second_value\n",
    "        first_value=second_value\n",
    "        second_value=next\n",
    "    print(next)\n",
    "    i=i+1"
   ]
  },
  {
   "cell_type": "raw",
   "id": "578ec845",
   "metadata": {},
   "source": [
    "Q 31.print fibonacci series use for loop"
   ]
  },
  {
   "cell_type": "code",
   "execution_count": 26,
   "id": "725324dc",
   "metadata": {},
   "outputs": [
    {
     "name": "stdout",
     "output_type": "stream",
     "text": [
      "enter the range8\n",
      "0\n",
      "1\n",
      "1\n",
      "2\n",
      "3\n",
      "5\n",
      "8\n",
      "13\n"
     ]
    }
   ],
   "source": [
    "number=int(input(\"enter the range\"))\n",
    "first_value=0\n",
    "second_value=1\n",
    "for num in range(0,number):\n",
    "    if(num<=1):\n",
    "        next=num\n",
    "    else:\n",
    "        next=first_value + second_value\n",
    "        first_value=second_value\n",
    "        second_value=next\n",
    "    print(next)"
   ]
  },
  {
   "cell_type": "code",
   "execution_count": null,
   "id": "6f3fe371",
   "metadata": {},
   "outputs": [],
   "source": [
    "Q 32 print pattern A,AB,ABC"
   ]
  },
  {
   "cell_type": "code",
   "execution_count": 30,
   "id": "7155724a",
   "metadata": {},
   "outputs": [
    {
     "name": "stdout",
     "output_type": "stream",
     "text": [
      "enter a charecterE\n",
      "A\n",
      "AB\n",
      "ABC\n",
      "ABCD\n",
      "ABCDE\n"
     ]
    }
   ],
   "source": [
    "ch=str(input(\"enter a charecter\"))\n",
    "a=ord(ch)\n",
    "for x in range(65,a+1):\n",
    "    for c in range (65,x+1):\n",
    "        print(chr(c),end=\"\")\n",
    "    print(\"\")"
   ]
  },
  {
   "cell_type": "raw",
   "id": "92513d9b",
   "metadata": {},
   "source": [
    "Q 33.calculation of X^n by fot loop:"
   ]
  },
  {
   "cell_type": "code",
   "execution_count": 2,
   "id": "fa8b14ef",
   "metadata": {},
   "outputs": [
    {
     "name": "stdout",
     "output_type": "stream",
     "text": [
      "enter no5\n",
      "enter power7\n",
      "78125\n"
     ]
    }
   ],
   "source": [
    "x=int(input(\"enter no\"))\n",
    "b=int(input(\"enter power\"))\n",
    "y=x\n",
    "for a in range(0,b-1):\n",
    "    y=x*y\n",
    "print(y)"
   ]
  },
  {
   "cell_type": "raw",
   "id": "de9c30a1",
   "metadata": {},
   "source": [
    "Q 34. Print the integer is palindrome or not palindrome:"
   ]
  },
  {
   "cell_type": "code",
   "execution_count": 3,
   "id": "7f2fb273",
   "metadata": {},
   "outputs": [
    {
     "name": "stdout",
     "output_type": "stream",
     "text": [
      "enter number121\n",
      "the number is palindrome\n"
     ]
    }
   ],
   "source": [
    "n=int(input(\"enter number\"))\n",
    "x=n\n",
    "r=0\n",
    "while n>0:\n",
    "    d=n%10\n",
    "    r=r*10+d\n",
    "    n=n//10\n",
    "if x==r:\n",
    "    print(\"the number is palindrome\")\n",
    "else:\n",
    "    print(\"the number is not palindrome\")"
   ]
  },
  {
   "cell_type": "raw",
   "id": "5243908b",
   "metadata": {},
   "source": [
    "Q 35.print factorial of list"
   ]
  },
  {
   "cell_type": "code",
   "execution_count": 7,
   "id": "73c8b61f",
   "metadata": {},
   "outputs": [
    {
     "name": "stdout",
     "output_type": "stream",
     "text": [
      "enter the element of list5\n",
      "do you want to enter more element :Y\n",
      "enter the element of list6\n",
      "do you want to enter more element :Y\n",
      "enter the element of list6\n",
      "do you want to enter more element :N\n",
      "the list is : [5, 6, 6]\n",
      "the factorial of each element is : [120, 720, 720]\n"
     ]
    }
   ],
   "source": [
    "a=[]\n",
    "fact=[]\n",
    "ch=\"y\"\n",
    "while ch==\"y\" or ch==\"Y\":\n",
    "    item=int(input(\"enter the element of list\"))\n",
    "    a.append(item)\n",
    "    ch=input(\"do you want to enter more element :\")\n",
    "print(\"the list is :\",a)\n",
    "for i in a:\n",
    "    f=1\n",
    "    for j in range(1,i+1):\n",
    "        f=f*j\n",
    "    fact.append(f)\n",
    "print(\"the factorial of each element is :\",fact)"
   ]
  },
  {
   "cell_type": "raw",
   "id": "1a07de16",
   "metadata": {},
   "source": [
    "Q 36.print pascal triangle:"
   ]
  },
  {
   "cell_type": "code",
   "execution_count": 9,
   "id": "27b598af",
   "metadata": {},
   "outputs": [
    {
     "name": "stdout",
     "output_type": "stream",
     "text": [
      "enter rows4\n",
      "*\n",
      "**\n",
      "***\n",
      "****\n"
     ]
    }
   ],
   "source": [
    "n=int(input(\"enter rows\"))\n",
    "for i in range(0,n):\n",
    "    for j in range(0,n-i-1):\n",
    "        print(end=\" \")\n",
    "    for j in range(0,i+1):\n",
    "        print(\"*\",end=\" \")\n",
    "    print()"
   ]
  },
  {
   "cell_type": "code",
   "execution_count": null,
   "id": "ebce2d80",
   "metadata": {},
   "outputs": [],
   "source": [
    "Q 37.create a list of values inputted by user:"
   ]
  },
  {
   "cell_type": "code",
   "execution_count": 11,
   "id": "5979ae03",
   "metadata": {},
   "outputs": [
    {
     "name": "stdout",
     "output_type": "stream",
     "text": [
      "enter limit5\n",
      "enter element7\n",
      "enter element8\n",
      "enter element8\n",
      "enter element67\n",
      "enter element45\n",
      "[7, 8, 8, 67, 45]\n"
     ]
    }
   ],
   "source": [
    "a=eval(input(\"enter limit\"))\n",
    "n=[]\n",
    "for a in range(1,a+1):\n",
    "    a=eval(input(\"enter element\"))\n",
    "    n.append(a)\n",
    "print(n)"
   ]
  },
  {
   "cell_type": "raw",
   "id": "39a4835c",
   "metadata": {},
   "source": [
    "Q 38. create a list of values inputted by user and  sort in increasing order"
   ]
  },
  {
   "cell_type": "code",
   "execution_count": 1,
   "id": "dbc5b309",
   "metadata": {},
   "outputs": [
    {
     "name": "stdout",
     "output_type": "stream",
     "text": [
      "enter limit4\n",
      "enter element45\n",
      "enter element67\n",
      "enter element43\n",
      "enter element44\n",
      "[45, 67, 43, 44]\n",
      "after sorting the list is\n",
      "[43, 44, 45, 67]\n"
     ]
    }
   ],
   "source": [
    "a=eval(input(\"enter limit\"))\n",
    "list=[]\n",
    "for a in range(1,a+1):\n",
    "    a=eval(input(\"enter element\"))\n",
    "    list.append(a)\n",
    "print(list)\n",
    "l=len(list)\n",
    "for i in range(l):\n",
    "    for j in range(0,l-i-1):\n",
    "        if list[j]>list[j+1]:\n",
    "            temp=list[j]\n",
    "            list[j]=list[j+1]\n",
    "            list[j+1]=temp\n",
    "print(\"after sorting the list is\")\n",
    "print(list)"
   ]
  },
  {
   "cell_type": "raw",
   "id": "6689d0f6",
   "metadata": {},
   "source": [
    "Q 39.sorting in ascending order use bubble sort"
   ]
  },
  {
   "cell_type": "code",
   "execution_count": 2,
   "id": "7373c0bf",
   "metadata": {},
   "outputs": [
    {
     "name": "stdout",
     "output_type": "stream",
     "text": [
      "enter limit4\n",
      "enter element5\n",
      "enter element6\n",
      "enter element7\n",
      "enter element6\n",
      "[5, 6, 7, 6]\n",
      "after sorting the list is\n",
      "[5, 6, 6, 7]\n"
     ]
    }
   ],
   "source": [
    "a=eval(input(\"enter limit\"))\n",
    "list=[]\n",
    "for a in range(1,a+1):\n",
    "    a=eval(input(\"enter element\"))\n",
    "    list.append(a)\n",
    "print(list)\n",
    "l=len(list)\n",
    "for i in range(l):\n",
    "    for j in range(0,l-i-1):\n",
    "        if list[j]>list[j+1]:\n",
    "            temp=list[j]\n",
    "            list[j]=list[j+1]\n",
    "            list[j+1]=temp\n",
    "print(\"after sorting the list is\")\n",
    "print(list)"
   ]
  },
  {
   "cell_type": "raw",
   "id": "e637b49d",
   "metadata": {},
   "source": [
    "Q 40.create phone dictionary:"
   ]
  },
  {
   "cell_type": "code",
   "execution_count": 2,
   "id": "033bd2ad",
   "metadata": {},
   "outputs": [
    {
     "name": "stdout",
     "output_type": "stream",
     "text": [
      "enter limit2\n",
      "enter mobile number8600644099\n",
      "enter nameAKSHAY\n",
      "enter mobile number8605031748\n",
      "enter nameNISHIGANDHA\n",
      "{8600644099: 'AKSHAY', 8605031748: 'NISHIGANDHA'}\n",
      "enter the no to search in dictionary 8600644099\n",
      "the name of person is AKSHAY\n"
     ]
    }
   ],
   "source": [
    "n=int(input(\"enter limit\"))\n",
    "m={}\n",
    "mob=0\n",
    "name=\"\"\n",
    "i=0\n",
    "for i in range(0,n):\n",
    "    mob=int(input(\"enter mobile number\"))\n",
    "    name=str(input(\"enter name\"))\n",
    "    z2=dict({mob:name})\n",
    "    m.update(z2)\n",
    "print(m)\n",
    "n=int(input(\"enter the no to search in dictionary \"))\n",
    "print(\"the name of person is\",m[n])"
   ]
  },
  {
   "cell_type": "raw",
   "id": "df92e568",
   "metadata": {},
   "source": [
    "Q 41 Find given number is prine or not"
   ]
  },
  {
   "cell_type": "code",
   "execution_count": 3,
   "id": "778b6d76",
   "metadata": {},
   "outputs": [
    {
     "name": "stdout",
     "output_type": "stream",
     "text": [
      "enter number34\n",
      "34 is not prime number\n"
     ]
    }
   ],
   "source": [
    "num=int(input(\"enter number\"))\n",
    "lim=int(num/2)+1\n",
    "for i in range(2,lim):\n",
    "    rem=num%i\n",
    "    if rem==0:\n",
    "        print(num,\"is not prime number\")\n",
    "        break\n",
    "else:\n",
    "    print(num,\"is prime number\")"
   ]
  },
  {
   "cell_type": "raw",
   "id": "a9b5c9b2",
   "metadata": {},
   "source": [
    "Q 42.find given number is even or odd."
   ]
  },
  {
   "cell_type": "code",
   "execution_count": 4,
   "id": "d3031fda",
   "metadata": {},
   "outputs": [
    {
     "name": "stdout",
     "output_type": "stream",
     "text": [
      "enter number9\n",
      "9 is odd number\n"
     ]
    }
   ],
   "source": [
    "a=int(input(\"enter number\"))\n",
    "r=a%2\n",
    "if r==0:\n",
    "    print(a,\"is even number\")\n",
    "elif r>0:\n",
    "    print(a,\"is odd number\")\n",
    "else:\n",
    "    print(\"you enter a number 0 or less than 0\")"
   ]
  },
  {
   "cell_type": "raw",
   "id": "37b2da53",
   "metadata": {},
   "source": [
    "Q 43.create a tupple of values inputed by user"
   ]
  },
  {
   "cell_type": "code",
   "execution_count": 5,
   "id": "1baed523",
   "metadata": {},
   "outputs": [
    {
     "name": "stdout",
     "output_type": "stream",
     "text": [
      "enter limit5\n",
      "enter element34\n",
      "enter element76\n",
      "enter element99\n",
      "enter element54\n",
      "enter element34\n",
      "tuple is (34, 76, 99, 54, 34)\n"
     ]
    }
   ],
   "source": [
    "a=()\n",
    "l=[]\n",
    "n=int(input(\"enter limit\"))\n",
    "for i in range(0,n):\n",
    "    item=int(input(\"enter element\"))\n",
    "    l.append(item)\n",
    "a=a+tuple(l)\n",
    "print(\"tuple is\",a)"
   ]
  },
  {
   "cell_type": "raw",
   "id": "527d5104",
   "metadata": {},
   "source": [
    "Q 44.reverse an integer"
   ]
  },
  {
   "cell_type": "code",
   "execution_count": 6,
   "id": "1b61de41",
   "metadata": {},
   "outputs": [
    {
     "name": "stdout",
     "output_type": "stream",
     "text": [
      "enter the integer8743\n",
      "the reversed integer is: 3478\n"
     ]
    }
   ],
   "source": [
    "n=int(input(\"enter the integer\"))\n",
    "x=n\n",
    "r=0\n",
    "while n>0:\n",
    "    d=n%10\n",
    "    r=r*10+d\n",
    "    n=n//10\n",
    "print(\"the reversed integer is:\",r)"
   ]
  },
  {
   "cell_type": "code",
   "execution_count": null,
   "id": "acc4a093",
   "metadata": {},
   "outputs": [],
   "source": []
  },
  {
   "cell_type": "code",
   "execution_count": null,
   "id": "e87026f5",
   "metadata": {},
   "outputs": [],
   "source": []
  }
 ],
 "metadata": {
  "kernelspec": {
   "display_name": "Python 3 (ipykernel)",
   "language": "python",
   "name": "python3"
  },
  "language_info": {
   "codemirror_mode": {
    "name": "ipython",
    "version": 3
   },
   "file_extension": ".py",
   "mimetype": "text/x-python",
   "name": "python",
   "nbconvert_exporter": "python",
   "pygments_lexer": "ipython3",
   "version": "3.11.4"
  }
 },
 "nbformat": 4,
 "nbformat_minor": 5
}
